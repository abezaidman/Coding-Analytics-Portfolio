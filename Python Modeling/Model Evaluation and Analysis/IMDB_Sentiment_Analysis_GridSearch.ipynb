{
 "cells": [
  {
   "cell_type": "code",
   "execution_count": 22,
   "id": "35229684",
   "metadata": {},
   "outputs": [],
   "source": [
    "import pandas as pd\n",
    "from sklearn.model_selection import train_test_split\n",
    "from sklearn.neighbors import KNeighborsClassifier\n",
    "from sklearn.metrics import accuracy_score, confusion_matrix\n",
    "from sklearn.model_selection import GridSearchCV\n",
    "import numpy as np\n",
    "from warnings import simplefilter\n",
    "simplefilter(action='ignore', category=FutureWarning)"
   ]
  },
  {
   "cell_type": "code",
   "execution_count": 16,
   "id": "08021d3a",
   "metadata": {},
   "outputs": [],
   "source": [
    "df = pd.read_csv(\"imdb_embeddings.csv\")"
   ]
  },
  {
   "cell_type": "code",
   "execution_count": 17,
   "id": "ae9e2e0f",
   "metadata": {},
   "outputs": [
    {
     "name": "stdout",
     "output_type": "stream",
     "text": [
      "          0         1         2         3         4         5         6  \\\n",
      "0  0.018286  0.014080 -0.017933  0.033934  0.021152  0.004322  0.027517   \n",
      "1  0.012938  0.023747 -0.009829  0.029569  0.015546  0.000183  0.034703   \n",
      "2  0.022146  0.024375 -0.033147  0.039690  0.007399  0.023983  0.021176   \n",
      "3  0.033092 -0.000977 -0.039334  0.030181 -0.000480  0.023207  0.011373   \n",
      "4  0.034824  0.010522 -0.000699  0.018999 -0.012746 -0.010763  0.017611   \n",
      "\n",
      "          7         8         9  ...      1015      1016      1017      1018  \\\n",
      "0  0.000220  0.013831  0.025731  ...  0.021308  0.062012 -0.008821 -0.044360   \n",
      "1  0.005572  0.046451  0.028338  ...  0.028046  0.033910  0.037395 -0.065566   \n",
      "2  0.008039  0.061547  0.017513  ...  0.025366  0.043178  0.022579 -0.048048   \n",
      "3  0.018389  0.033009 -0.002754  ...  0.037889  0.049345  0.016347 -0.055545   \n",
      "4  0.017579  0.025680  0.011097  ...  0.016880  0.045389 -0.000833 -0.039438   \n",
      "\n",
      "       1019      1020      1021      1022      1023  sentiment  \n",
      "0  0.009735  0.000826  0.097857  0.031920 -0.011163          0  \n",
      "1  0.011696  0.026815  0.035120  0.061684  0.007382          0  \n",
      "2  0.022703  0.038802  0.031042  0.053786 -0.022703          0  \n",
      "3  0.014085  0.016159  0.042329  0.038161 -0.014022          0  \n",
      "4  0.001386  0.018320  0.073950  0.035117 -0.007855          0  \n",
      "\n",
      "[5 rows x 1025 columns]\n"
     ]
    }
   ],
   "source": [
    "print(df.head(5))"
   ]
  },
  {
   "cell_type": "code",
   "execution_count": 18,
   "id": "7b05fef6",
   "metadata": {},
   "outputs": [],
   "source": [
    "\n",
    "X = df.drop(columns=['sentiment'])\n",
    "y = df['sentiment']\n",
    "X_train, X_test, y_train, y_test = train_test_split(X, y, test_size=0.2,random_state=365)\n",
    "X_train = X_train.copy()\n",
    "X_test = X_test.copy()"
   ]
  },
  {
   "cell_type": "code",
   "execution_count": 19,
   "id": "091a1d7e",
   "metadata": {},
   "outputs": [
    {
     "data": {
      "text/plain": [
       "Index(['0', '1', '2', '3', '4', '5', '6', '7', '8', '9',\n",
       "       ...\n",
       "       '1015', '1016', '1017', '1018', '1019', '1020', '1021', '1022', '1023',\n",
       "       'sentiment'],\n",
       "      dtype='object', length=1025)"
      ]
     },
     "execution_count": 19,
     "metadata": {},
     "output_type": "execute_result"
    }
   ],
   "source": [
    "df.columns"
   ]
  },
  {
   "cell_type": "code",
   "execution_count": 23,
   "id": "758fb8b8",
   "metadata": {},
   "outputs": [
    {
     "name": "stdout",
     "output_type": "stream",
     "text": [
      "Best parameters are: {'n_neighbors': 18}\n",
      "The cross-validation accuracy is: 0.8945\n",
      "The testing accuracy is: 0.897\n",
      "The confusion matrix is:\n",
      "[[904  60]\n",
      " [146 890]]\n"
     ]
    }
   ],
   "source": [
    "\n",
    "clf = KNeighborsClassifier(n_neighbors=3)\n",
    "\n",
    "\n",
    "param_grid = {\n",
    "    'n_neighbors': np.arange(2,200,4)\n",
    "}    \n",
    "\n",
    "grid = GridSearchCV(estimator = clf, param_grid = param_grid, cv=3)\n",
    "grid.fit(X_train, y_train)\n",
    "print(f\"Best parameters are: {grid.best_params_}\")\n",
    "print(f\"The cross-validation accuracy is: {round(grid.best_score_,4)}\")\n",
    "\n",
    "# evaluation\n",
    "y_predict = grid.best_estimator_.predict(X_test)\n",
    "print(f\"The testing accuracy is: {accuracy_score(y_test, y_predict).round(4)}\")\n",
    "print(\"The confusion matrix is:\")\n",
    "cm = confusion_matrix(y_test, y_predict)\n",
    "print(cm)"
   ]
  },
  {
   "cell_type": "code",
   "execution_count": 24,
   "id": "cf2ec6bd",
   "metadata": {},
   "outputs": [],
   "source": [
    "import xgboost as xgb"
   ]
  },
  {
   "cell_type": "code",
   "execution_count": 25,
   "id": "386e9d61",
   "metadata": {},
   "outputs": [],
   "source": [
    "xgb_sklearn = xgb.XGBClassifier(verbosity=0, random_state=1)"
   ]
  },
  {
   "cell_type": "code",
   "execution_count": null,
   "id": "2cd58dac",
   "metadata": {},
   "outputs": [],
   "source": [
    "param_grid = {\n",
    "    'n_estimators': np.arange(50, 250, 50),\n",
    "    'max_depth': np.arange(2, 7, 2),\n",
    "    'learning_rate': [0.01, 0.1, 0.2, 0.3]  \n",
    "}\n",
    "\n",
    "grid = GridSearchCV(estimator=xgb_sklearn, param_grid=param_grid, cv=3)\n",
    "grid.fit(X_train, y_train)\n",
    "print(f\"Best parameters are: {grid.best_params_}\")\n",
    "print(f\"The cross-validation accuracy is: {grid.best_score_:.4}\")\n",
    "\n",
    "# Evaluation\n",
    "y_predict = grid.best_estimator_.predict(X_test)\n",
    "print(f\"The testing accuracy is: {accuracy_score(y_test, y_predict):.4}\")\n",
    "print(\"The confusion matrix is:\")\n",
    "cm = confusion_matrix(y_test, y_predict)\n",
    "print(cm)\n",
    "\n",
    "\n",
    "### taking hours to run. browser crashed at one point as well."
   ]
  }
 ],
 "metadata": {
  "kernelspec": {
   "display_name": "Python 3 (ipykernel)",
   "language": "python",
   "name": "python3"
  },
  "language_info": {
   "codemirror_mode": {
    "name": "ipython",
    "version": 3
   },
   "file_extension": ".py",
   "mimetype": "text/x-python",
   "name": "python",
   "nbconvert_exporter": "python",
   "pygments_lexer": "ipython3",
   "version": "3.9.13"
  }
 },
 "nbformat": 4,
 "nbformat_minor": 5
}
