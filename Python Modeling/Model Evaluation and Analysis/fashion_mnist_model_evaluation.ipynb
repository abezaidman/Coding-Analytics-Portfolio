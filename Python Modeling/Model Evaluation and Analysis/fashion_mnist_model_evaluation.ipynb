{
 "cells": [
  {
   "cell_type": "markdown",
   "metadata": {
    "id": "KddjS9bpCwPU"
   },
   "source": [
    "### Step 1 -- Load necessary Python packages:"
   ]
  },
  {
   "cell_type": "code",
   "execution_count": 1,
   "metadata": {
    "id": "SBjIzhAcZ7ma"
   },
   "outputs": [],
   "source": [
    "import numpy as np\n",
    "import matplotlib.pyplot as plt\n",
    "import tensorflow as tf\n",
    "from tensorflow import keras"
   ]
  },
  {
   "cell_type": "markdown",
   "metadata": {
    "id": "sxeYR4EdC2dc"
   },
   "source": [
    "### Step 2 -- Load the Fashion MNIST dataset:"
   ]
  },
  {
   "cell_type": "code",
   "execution_count": 2,
   "metadata": {
    "colab": {
     "base_uri": "https://localhost:8080/"
    },
    "id": "sdUqyl6eC7Pn",
    "outputId": "173d43f2-d95f-4067-b37f-65a6870b03be"
   },
   "outputs": [
    {
     "name": "stdout",
     "output_type": "stream",
     "text": [
      "Downloading data from https://storage.googleapis.com/tensorflow/tf-keras-datasets/train-labels-idx1-ubyte.gz\n",
      "29515/29515 [==============================] - 0s 0us/step\n",
      "Downloading data from https://storage.googleapis.com/tensorflow/tf-keras-datasets/train-images-idx3-ubyte.gz\n",
      "26421880/26421880 [==============================] - 0s 0us/step\n",
      "Downloading data from https://storage.googleapis.com/tensorflow/tf-keras-datasets/t10k-labels-idx1-ubyte.gz\n",
      "5148/5148 [==============================] - 0s 0us/step\n",
      "Downloading data from https://storage.googleapis.com/tensorflow/tf-keras-datasets/t10k-images-idx3-ubyte.gz\n",
      "4422102/4422102 [==============================] - 0s 0us/step\n"
     ]
    }
   ],
   "source": [
    "fashion_mnist = keras.datasets.fashion_mnist\n",
    "(train_images, train_labels), (test_images, test_labels) = fashion_mnist.load_data()"
   ]
  },
  {
   "cell_type": "markdown",
   "metadata": {
    "id": "pA82ylbxHHOM"
   },
   "source": [
    "### Step 3 -- Data preparation:\n",
    "\n",
    "Only two things to prepare:\n",
    "* Create variable `class_names` and fill it with the names of the 10 types of clothes\n",
    "* Normalize the data"
   ]
  },
  {
   "cell_type": "code",
   "execution_count": 3,
   "metadata": {
    "id": "2TN90q7oHeW7"
   },
   "outputs": [],
   "source": [
    "class_names = ['T-shirt/top', 'Trouser', 'Pullover', 'Dress', 'Coat',\n",
    "               'Sandal', 'Shirt', 'Sneaker', 'Bag', 'Ankle boot']"
   ]
  },
  {
   "cell_type": "markdown",
   "metadata": {
    "id": "_Ij17_nnHf46"
   },
   "source": [
    "### Step 4 -- Build the model and name it `model1`\n",
    "\n",
    "Two parts:\n",
    "* Set up the layer structures of the NN model\n",
    "* Compile the model (a.k.a., specify the necessary hyperparameters)\n",
    "\n",
    "Name it `model1` so we can differentiate between various models we'll create."
   ]
  },
  {
   "cell_type": "code",
   "execution_count": 4,
   "metadata": {
    "id": "xeVDGpNIHfC2"
   },
   "outputs": [],
   "source": [
    "model = keras.Sequential([\n",
    "    keras.layers.Flatten(input_shape=(28, 28)),\n",
    "    keras.layers.Dense(128, activation='relu'),\n",
    "    keras.layers.Dense(10, activation='softmax')\n",
    "])"
   ]
  },
  {
   "cell_type": "markdown",
   "metadata": {
    "id": "TbVK66XYGq2J"
   },
   "source": [
    "Step 5 -- Train the model, and evaluate accuracy on the test dataset\n",
    "\n",
    "\n",
    "\n"
   ]
  },
  {
   "cell_type": "code",
   "execution_count": 10,
   "metadata": {
    "colab": {
     "base_uri": "https://localhost:8080/"
    },
    "id": "UmDrOwfQGq2M",
    "outputId": "d7051703-318a-4d14-90c7-4a58df748dcb"
   },
   "outputs": [
    {
     "name": "stdout",
     "output_type": "stream",
     "text": [
      "Epoch 1/10\n",
      "1875/1875 [==============================] - 8s 4ms/step - loss: 0.4433 - accuracy: 0.8489\n",
      "Epoch 2/10\n",
      "1875/1875 [==============================] - 7s 4ms/step - loss: 0.4340 - accuracy: 0.8486\n",
      "Epoch 3/10\n",
      "1875/1875 [==============================] - 7s 4ms/step - loss: 0.4313 - accuracy: 0.8500\n",
      "Epoch 4/10\n",
      "1875/1875 [==============================] - 8s 4ms/step - loss: 0.4436 - accuracy: 0.8479\n",
      "Epoch 5/10\n",
      "1875/1875 [==============================] - 6s 3ms/step - loss: 0.4425 - accuracy: 0.8474\n",
      "Epoch 6/10\n",
      "1875/1875 [==============================] - 7s 4ms/step - loss: 0.4366 - accuracy: 0.8483\n",
      "Epoch 7/10\n",
      "1875/1875 [==============================] - 6s 3ms/step - loss: 0.4396 - accuracy: 0.8480\n",
      "Epoch 8/10\n",
      "1875/1875 [==============================] - 8s 4ms/step - loss: 0.4346 - accuracy: 0.8509\n",
      "Epoch 9/10\n",
      "1875/1875 [==============================] - 6s 3ms/step - loss: 0.4344 - accuracy: 0.8540\n",
      "Epoch 10/10\n",
      "1875/1875 [==============================] - 7s 4ms/step - loss: 0.4230 - accuracy: 0.8560\n",
      "313/313 [==============================] - 1s 2ms/step - loss: 3.3895 - accuracy: 0.1001\n",
      "\n",
      "Test accuracy: 0.1001\n"
     ]
    }
   ],
   "source": [
    "model.compile(optimizer='adam',\n",
    "              loss=tf.keras.losses.SparseCategoricalCrossentropy(),\n",
    "              metrics=['accuracy'])\n",
    "\n",
    "model.fit(train_images, train_labels, epochs=10)\n",
    "\n",
    "test_loss, test_acc = model.evaluate(test_images, test_labels)\n",
    "\n",
    "print(f'\\nTest accuracy: {test_acc:.4}')"
   ]
  },
  {
   "cell_type": "markdown",
   "metadata": {
    "id": "scL5lJvMKYEY"
   },
   "source": [
    "What is the test accuracy? Also, what is the difference between the train accuracy and the test accuracy? You can manually write down the answers by copying from the outputs above."
   ]
  },
  {
   "cell_type": "markdown",
   "metadata": {
    "id": "QJxuzPmYMrwR"
   },
   "source": [
    ".1001. The difference is .7559."
   ]
  },
  {
   "cell_type": "markdown",
   "metadata": {
    "id": "5__pN69-Z6I1"
   },
   "source": [
    "### Step 6 -- Make predictions on the first 15 images in the test dataset\n",
    "\n",
    "Please print out the predictions -- in terms of names of the type of clothes, not numbers -- on the first 15 images in the test dataset. Also please print out the ground truth names of these 15 images for comparison. No need to visualize anything.\n",
    "\n",
    "Hint: the code in the lecture note can only make prediction over a single image. To make predictions on multiple images, you can try either of the follow methods (or other ways you can think of):\n",
    "* Use [for loop](https://www.w3schools.com/python/python_for_loops.asp)\n",
    "* Use [list comprehension](https://www.w3schools.com/python/python_lists_comprehension.asp)\n"
   ]
  },
  {
   "cell_type": "code",
   "execution_count": 11,
   "metadata": {
    "colab": {
     "base_uri": "https://localhost:8080/"
    },
    "id": "L-FYwoA2ZgGN",
    "outputId": "24e3f15b-7ba8-4db6-e234-8df9777b6e1a"
   },
   "outputs": [
    {
     "name": "stdout",
     "output_type": "stream",
     "text": [
      "1/1 [==============================] - 0s 63ms/step\n",
      "Image 1:\n",
      "  Predicted: Bag\n",
      "  Ground truth: Ankle boot\n",
      "Image 2:\n",
      "  Predicted: Bag\n",
      "  Ground truth: Pullover\n",
      "Image 3:\n",
      "  Predicted: Bag\n",
      "  Ground truth: Trouser\n",
      "Image 4:\n",
      "  Predicted: Bag\n",
      "  Ground truth: Trouser\n",
      "Image 5:\n",
      "  Predicted: Bag\n",
      "  Ground truth: Shirt\n",
      "Image 6:\n",
      "  Predicted: Bag\n",
      "  Ground truth: Trouser\n",
      "Image 7:\n",
      "  Predicted: Bag\n",
      "  Ground truth: Coat\n",
      "Image 8:\n",
      "  Predicted: Bag\n",
      "  Ground truth: Shirt\n",
      "Image 9:\n",
      "  Predicted: Bag\n",
      "  Ground truth: Sandal\n",
      "Image 10:\n",
      "  Predicted: Bag\n",
      "  Ground truth: Sneaker\n",
      "Image 11:\n",
      "  Predicted: Bag\n",
      "  Ground truth: Coat\n",
      "Image 12:\n",
      "  Predicted: Bag\n",
      "  Ground truth: Sandal\n",
      "Image 13:\n",
      "  Predicted: Bag\n",
      "  Ground truth: Sneaker\n",
      "Image 14:\n",
      "  Predicted: Bag\n",
      "  Ground truth: Dress\n",
      "Image 15:\n",
      "  Predicted: Bag\n",
      "  Ground truth: Coat\n"
     ]
    }
   ],
   "source": [
    "test_images = test_images / 255.0\n",
    "first_15_test_images = test_images[:15]\n",
    "predictions = model.predict(first_15_test_images)\n",
    "predicted_labels = np.argmax(predictions, axis=1)\n",
    "for i in range(15):\n",
    "    print(f\"Image {i+1}:\")\n",
    "    print(f\"  Predicted: {class_names[predicted_labels[i]]}\")\n",
    "    print(f\"  Ground truth: {class_names[test_labels[i]]}\")"
   ]
  },
  {
   "cell_type": "code",
   "execution_count": 12,
   "metadata": {
    "colab": {
     "base_uri": "https://localhost:8080/"
    },
    "id": "kplxS3cpZizx",
    "outputId": "a544b442-156e-4987-9ece-7cd71d036322"
   },
   "outputs": [
    {
     "name": "stdout",
     "output_type": "stream",
     "text": [
      "Epoch 1/20\n",
      "1875/1875 [==============================] - 8s 4ms/step - loss: 0.4264 - accuracy: 0.8536\n",
      "Epoch 2/20\n",
      "1875/1875 [==============================] - 7s 4ms/step - loss: 0.4465 - accuracy: 0.8504\n",
      "Epoch 3/20\n",
      "1875/1875 [==============================] - 8s 4ms/step - loss: 0.4263 - accuracy: 0.8552\n",
      "Epoch 4/20\n",
      "1875/1875 [==============================] - 7s 4ms/step - loss: 0.4293 - accuracy: 0.8563\n",
      "Epoch 5/20\n",
      "1875/1875 [==============================] - 8s 4ms/step - loss: 0.4311 - accuracy: 0.8553\n",
      "Epoch 6/20\n",
      "1875/1875 [==============================] - 8s 4ms/step - loss: 0.4331 - accuracy: 0.8529\n",
      "Epoch 7/20\n",
      "1875/1875 [==============================] - 7s 4ms/step - loss: 0.4300 - accuracy: 0.8562\n",
      "Epoch 8/20\n",
      "1875/1875 [==============================] - 8s 4ms/step - loss: 0.4165 - accuracy: 0.8559\n",
      "Epoch 9/20\n",
      "1875/1875 [==============================] - 8s 4ms/step - loss: 0.4244 - accuracy: 0.8558\n",
      "Epoch 10/20\n",
      "1875/1875 [==============================] - 8s 4ms/step - loss: 0.4149 - accuracy: 0.8604\n",
      "Epoch 11/20\n",
      "1875/1875 [==============================] - 8s 4ms/step - loss: 0.4280 - accuracy: 0.8553\n",
      "Epoch 12/20\n",
      "1875/1875 [==============================] - 7s 4ms/step - loss: 0.4233 - accuracy: 0.8561\n",
      "Epoch 13/20\n",
      "1875/1875 [==============================] - 8s 4ms/step - loss: 0.4200 - accuracy: 0.8590\n",
      "Epoch 14/20\n",
      "1875/1875 [==============================] - 6s 3ms/step - loss: 0.4223 - accuracy: 0.8575\n",
      "Epoch 15/20\n",
      "1875/1875 [==============================] - 8s 4ms/step - loss: 0.4305 - accuracy: 0.8565\n",
      "Epoch 16/20\n",
      "1875/1875 [==============================] - 7s 3ms/step - loss: 0.4219 - accuracy: 0.8579\n",
      "Epoch 17/20\n",
      "1875/1875 [==============================] - 7s 4ms/step - loss: 0.4229 - accuracy: 0.8586\n",
      "Epoch 18/20\n",
      "1875/1875 [==============================] - 7s 4ms/step - loss: 0.4243 - accuracy: 0.8592\n",
      "Epoch 19/20\n",
      "1875/1875 [==============================] - 7s 4ms/step - loss: 0.4261 - accuracy: 0.8580\n",
      "Epoch 20/20\n",
      "1875/1875 [==============================] - 8s 4ms/step - loss: 0.4205 - accuracy: 0.8561\n",
      "313/313 [==============================] - 1s 2ms/step - loss: 4.3862 - accuracy: 0.1000\n",
      "\n",
      "Test accuracy: 0.1\n"
     ]
    }
   ],
   "source": [
    "model.fit(train_images, train_labels, epochs=20)\n",
    "\n",
    "test_loss, test_acc = model.evaluate(test_images, test_labels)\n",
    "\n",
    "print(f'\\nTest accuracy: {test_acc:.4}')"
   ]
  },
  {
   "cell_type": "markdown",
   "metadata": {
    "id": "vNJXS5NDMDiv"
   },
   "source": [
    "What is the test accuracy? Did the model performance improve?"
   ]
  },
  {
   "cell_type": "markdown",
   "metadata": {
    "id": "M-gisO5AMuBC"
   },
   "source": [
    ".1. No, it didn't improve."
   ]
  },
  {
   "cell_type": "markdown",
   "metadata": {
    "id": "vRUuyIUdMK2s"
   },
   "source": [
    "**What** is the difference between the train accuracy and the test accuracy? Did it grow larger as compared to Step 5 in Question 1? Briefly, what is your takeaway?"
   ]
  },
  {
   "cell_type": "markdown",
   "metadata": {
    "id": "ApL6ngZ8Mu7N"
   },
   "source": [
    "In Question 2, the difference is 0.7561. In Step 5, the difference is 0.7559. Adding more epochs is counterproductive if anything. The model is now overfitting."
   ]
  },
  {
   "cell_type": "code",
   "execution_count": 14,
   "metadata": {
    "colab": {
     "base_uri": "https://localhost:8080/"
    },
    "id": "vibXKB9AO_At",
    "outputId": "289730ad-d02c-420f-fd3b-8d42abf23c8a"
   },
   "outputs": [
    {
     "name": "stdout",
     "output_type": "stream",
     "text": [
      "Epoch 1/20\n",
      "1875/1875 [==============================] - 10s 5ms/step - loss: 4.1075 - accuracy: 0.7095\n",
      "Epoch 2/20\n",
      "1875/1875 [==============================] - 10s 5ms/step - loss: 0.6620 - accuracy: 0.7563\n",
      "Epoch 3/20\n",
      "1875/1875 [==============================] - 9s 5ms/step - loss: 0.5542 - accuracy: 0.8023\n",
      "Epoch 4/20\n",
      "1875/1875 [==============================] - 8s 5ms/step - loss: 0.5171 - accuracy: 0.8241\n",
      "Epoch 5/20\n",
      "1875/1875 [==============================] - 9s 5ms/step - loss: 0.4970 - accuracy: 0.8308\n",
      "Epoch 6/20\n",
      "1875/1875 [==============================] - 9s 5ms/step - loss: 0.4783 - accuracy: 0.8383\n",
      "Epoch 7/20\n",
      "1875/1875 [==============================] - 8s 4ms/step - loss: 0.4684 - accuracy: 0.8414\n",
      "Epoch 8/20\n",
      "1875/1875 [==============================] - 9s 5ms/step - loss: 0.4565 - accuracy: 0.8460\n",
      "Epoch 9/20\n",
      "1875/1875 [==============================] - 9s 5ms/step - loss: 0.4524 - accuracy: 0.8451\n",
      "Epoch 10/20\n",
      "1875/1875 [==============================] - 9s 5ms/step - loss: 0.4463 - accuracy: 0.8493\n",
      "Epoch 11/20\n",
      "1875/1875 [==============================] - 9s 5ms/step - loss: 0.4412 - accuracy: 0.8511\n",
      "Epoch 12/20\n",
      "1875/1875 [==============================] - 9s 5ms/step - loss: 0.4407 - accuracy: 0.8508\n",
      "Epoch 13/20\n",
      "1875/1875 [==============================] - 9s 5ms/step - loss: 0.4320 - accuracy: 0.8543\n",
      "Epoch 14/20\n",
      "1875/1875 [==============================] - 8s 4ms/step - loss: 0.4371 - accuracy: 0.8512\n",
      "Epoch 15/20\n",
      "1875/1875 [==============================] - 9s 5ms/step - loss: 0.4266 - accuracy: 0.8553\n",
      "Epoch 16/20\n",
      "1875/1875 [==============================] - 10s 5ms/step - loss: 0.4334 - accuracy: 0.8543\n",
      "Epoch 17/20\n",
      "1875/1875 [==============================] - 8s 4ms/step - loss: 0.4220 - accuracy: 0.8568\n",
      "Epoch 18/20\n",
      "1875/1875 [==============================] - 9s 5ms/step - loss: 0.4206 - accuracy: 0.8557\n",
      "Epoch 19/20\n",
      "1875/1875 [==============================] - 10s 5ms/step - loss: 0.4292 - accuracy: 0.8546\n",
      "Epoch 20/20\n",
      "1875/1875 [==============================] - 10s 5ms/step - loss: 0.4171 - accuracy: 0.8574\n",
      "313/313 [==============================] - 1s 2ms/step - loss: 0.5199 - accuracy: 0.8417\n",
      "\n",
      "Test accuracy: 0.8417\n"
     ]
    }
   ],
   "source": [
    "fashion_mnist = keras.datasets.fashion_mnist\n",
    "(train_images, train_labels), (test_images, test_labels) = fashion_mnist.load_data()\n",
    "\n",
    "class_names = ['T-shirt/top', 'Trouser', 'Pullover', 'Dress', 'Coat',\n",
    "               'Sandal', 'Shirt', 'Sneaker', 'Bag', 'Ankle boot']\n",
    "\n",
    "model2 = keras.Sequential([\n",
    "    keras.layers.Flatten(input_shape=(28, 28)),\n",
    "    keras.layers.Dense(256, activation='relu'),\n",
    "    keras.layers.Dense(10, activation='softmax')\n",
    "])\n",
    "\n",
    "model2.compile(optimizer='adam',\n",
    "              loss=tf.keras.losses.SparseCategoricalCrossentropy(),\n",
    "              metrics=['accuracy'])\n",
    "\n",
    "model2.fit(train_images, train_labels, epochs=20)\n",
    "\n",
    "test_loss, test_acc = model2.evaluate(test_images, test_labels)\n",
    "\n",
    "print(f'\\nTest accuracy: {test_acc:.4}')"
   ]
  },
  {
   "cell_type": "markdown",
   "metadata": {
    "id": "mcEE8yzfQdCj"
   },
   "source": [
    "What is the test accuracy of `model2`? Did the model performance improve as compared to that in Question 2?"
   ]
  },
  {
   "cell_type": "markdown",
   "metadata": {
    "id": "kimjrIytQdCl"
   },
   "source": [
    ".8417. Yes, it has improved."
   ]
  },
  {
   "cell_type": "markdown",
   "metadata": {
    "id": "OVFegvXYQdCl"
   },
   "source": [
    "What is the difference between the train accuracy and the test accuracy in `model2`? Did it grow larger as compared to that in Question 2? No need to explain."
   ]
  },
  {
   "cell_type": "markdown",
   "metadata": {
    "id": "hHpWjYClQdCl"
   },
   "source": [
    "For model2, the difference is 0.0157. For Question 2, the difference is 0.7561. The difference decreased."
   ]
  },
  {
   "cell_type": "code",
   "execution_count": 15,
   "metadata": {
    "colab": {
     "base_uri": "https://localhost:8080/"
    },
    "id": "Q_q4a26yRkB7",
    "outputId": "bca6c3a3-484f-4f15-d4bc-aa6e52ea85f8"
   },
   "outputs": [
    {
     "name": "stdout",
     "output_type": "stream",
     "text": [
      "Epoch 1/20\n",
      "1875/1875 [==============================] - 14s 7ms/step - loss: 2.2318 - accuracy: 0.7424\n",
      "Epoch 2/20\n",
      "1875/1875 [==============================] - 11s 6ms/step - loss: 0.6740 - accuracy: 0.7825\n",
      "Epoch 3/20\n",
      "1875/1875 [==============================] - 11s 6ms/step - loss: 0.5924 - accuracy: 0.8030\n",
      "Epoch 4/20\n",
      "1875/1875 [==============================] - 11s 6ms/step - loss: 0.5431 - accuracy: 0.8185\n",
      "Epoch 5/20\n",
      "1875/1875 [==============================] - 11s 6ms/step - loss: 0.4906 - accuracy: 0.8324\n",
      "Epoch 6/20\n",
      "1875/1875 [==============================] - 12s 6ms/step - loss: 0.4752 - accuracy: 0.8357\n",
      "Epoch 7/20\n",
      "1875/1875 [==============================] - 11s 6ms/step - loss: 0.4534 - accuracy: 0.8425\n",
      "Epoch 8/20\n",
      "1875/1875 [==============================] - 11s 6ms/step - loss: 0.4423 - accuracy: 0.8460\n",
      "Epoch 9/20\n",
      "1875/1875 [==============================] - 11s 6ms/step - loss: 0.4266 - accuracy: 0.8525\n",
      "Epoch 10/20\n",
      "1875/1875 [==============================] - 11s 6ms/step - loss: 0.4198 - accuracy: 0.8539\n",
      "Epoch 11/20\n",
      "1875/1875 [==============================] - 11s 6ms/step - loss: 0.4129 - accuracy: 0.8578\n",
      "Epoch 12/20\n",
      "1875/1875 [==============================] - 11s 6ms/step - loss: 0.4102 - accuracy: 0.8593\n",
      "Epoch 13/20\n",
      "1875/1875 [==============================] - 11s 6ms/step - loss: 0.3956 - accuracy: 0.8601\n",
      "Epoch 14/20\n",
      "1875/1875 [==============================] - 11s 6ms/step - loss: 0.3929 - accuracy: 0.8620\n",
      "Epoch 15/20\n",
      "1875/1875 [==============================] - 11s 6ms/step - loss: 0.3842 - accuracy: 0.8663\n",
      "Epoch 16/20\n",
      "1875/1875 [==============================] - 11s 6ms/step - loss: 0.3777 - accuracy: 0.8657\n",
      "Epoch 17/20\n",
      "1875/1875 [==============================] - 11s 6ms/step - loss: 0.3804 - accuracy: 0.8680\n",
      "Epoch 18/20\n",
      "1875/1875 [==============================] - 10s 5ms/step - loss: 0.3750 - accuracy: 0.8679\n",
      "Epoch 19/20\n",
      "1875/1875 [==============================] - 11s 6ms/step - loss: 0.3753 - accuracy: 0.8669\n",
      "Epoch 20/20\n",
      "1875/1875 [==============================] - 11s 6ms/step - loss: 0.3633 - accuracy: 0.8704\n",
      "313/313 [==============================] - 1s 4ms/step - loss: 0.4449 - accuracy: 0.8533\n",
      "\n",
      "Test accuracy: 0.8533\n"
     ]
    }
   ],
   "source": [
    "fashion_mnist = keras.datasets.fashion_mnist\n",
    "(train_images, train_labels), (test_images, test_labels) = fashion_mnist.load_data()\n",
    "\n",
    "class_names = ['T-shirt/top', 'Trouser', 'Pullover', 'Dress', 'Coat',\n",
    "               'Sandal', 'Shirt', 'Sneaker', 'Bag', 'Ankle boot']\n",
    "\n",
    "model3 = keras.Sequential([\n",
    "    keras.layers.Flatten(input_shape=(28, 28)),\n",
    "    keras.layers.Dense(256, activation='relu'),\n",
    "    keras.layers.Dense(256, activation='relu'),  \n",
    "    keras.layers.Dense(10, activation='softmax')\n",
    "])\n",
    "\n",
    "model3.compile(optimizer='adam',\n",
    "              loss=tf.keras.losses.SparseCategoricalCrossentropy(),\n",
    "              metrics=['accuracy'])\n",
    "\n",
    "model3.fit(train_images, train_labels, epochs=20)\n",
    "\n",
    "test_loss, test_acc = model3.evaluate(test_images, test_labels)\n",
    "\n",
    "print(f'\\nTest accuracy: {test_acc:.4}')\n"
   ]
  },
  {
   "cell_type": "markdown",
   "metadata": {
    "id": "RGt818q5RkB8"
   },
   "source": [
    "What is the test accuracy of `model3`? Did the model performance improve as compared to that in `model2`?"
   ]
  },
  {
   "cell_type": "markdown",
   "metadata": {
    "id": "WLKJbEW9RkB8"
   },
   "source": [
    ".8533. Yes, it improved."
   ]
  },
  {
   "cell_type": "markdown",
   "metadata": {
    "id": "O96RVecvRkB8"
   },
   "source": [
    "What is the difference between the train accuracy and the test accuracy in `model3`? Did it grow larger as compared to that in `model2`? No need to explain."
   ]
  },
  {
   "cell_type": "markdown",
   "metadata": {
    "id": "6TIogCdLRkB8"
   },
   "source": [
    "For model3, the difference is 0.0171. For model2, the difference is .0157. It got larger."
   ]
  },
  {
   "cell_type": "code",
   "execution_count": 16,
   "metadata": {
    "colab": {
     "base_uri": "https://localhost:8080/"
    },
    "id": "FE_q9lwrS13y",
    "outputId": "391bfc82-a6ae-4526-a496-ce962aee473b"
   },
   "outputs": [
    {
     "name": "stdout",
     "output_type": "stream",
     "text": [
      "Epoch 1/20\n",
      "1875/1875 [==============================] - 13s 7ms/step - loss: 2.3835 - accuracy: 0.6433\n",
      "Epoch 2/20\n",
      "1875/1875 [==============================] - 12s 7ms/step - loss: 1.1773 - accuracy: 0.6277\n",
      "Epoch 3/20\n",
      "1875/1875 [==============================] - 12s 6ms/step - loss: 1.0255 - accuracy: 0.6350\n",
      "Epoch 4/20\n",
      "1875/1875 [==============================] - 12s 6ms/step - loss: 0.8891 - accuracy: 0.6615\n",
      "Epoch 5/20\n",
      "1875/1875 [==============================] - 12s 6ms/step - loss: 0.8342 - accuracy: 0.6728\n",
      "Epoch 6/20\n",
      "1875/1875 [==============================] - 12s 6ms/step - loss: 0.7515 - accuracy: 0.6978\n",
      "Epoch 7/20\n",
      "1875/1875 [==============================] - 12s 6ms/step - loss: 0.7260 - accuracy: 0.7064\n",
      "Epoch 8/20\n",
      "1875/1875 [==============================] - 12s 6ms/step - loss: 0.7196 - accuracy: 0.7121\n",
      "Epoch 9/20\n",
      "1875/1875 [==============================] - 12s 6ms/step - loss: 0.6860 - accuracy: 0.7250\n",
      "Epoch 10/20\n",
      "1875/1875 [==============================] - 12s 6ms/step - loss: 0.6690 - accuracy: 0.7283\n",
      "Epoch 11/20\n",
      "1875/1875 [==============================] - 12s 6ms/step - loss: 0.6747 - accuracy: 0.7289\n",
      "Epoch 12/20\n",
      "1875/1875 [==============================] - 12s 6ms/step - loss: 0.6502 - accuracy: 0.7353\n",
      "Epoch 13/20\n",
      "1875/1875 [==============================] - 12s 6ms/step - loss: 0.6442 - accuracy: 0.7371\n",
      "Epoch 14/20\n",
      "1875/1875 [==============================] - 12s 6ms/step - loss: 0.6434 - accuracy: 0.7387\n",
      "Epoch 15/20\n",
      "1875/1875 [==============================] - 12s 6ms/step - loss: 0.6436 - accuracy: 0.7427\n",
      "Epoch 16/20\n",
      "1875/1875 [==============================] - 12s 6ms/step - loss: 0.6346 - accuracy: 0.7412\n",
      "Epoch 17/20\n",
      "1875/1875 [==============================] - 12s 6ms/step - loss: 0.6395 - accuracy: 0.7395\n",
      "Epoch 18/20\n",
      "1875/1875 [==============================] - 12s 6ms/step - loss: 0.6259 - accuracy: 0.7509\n",
      "Epoch 19/20\n",
      "1875/1875 [==============================] - 12s 7ms/step - loss: 0.6196 - accuracy: 0.7491\n",
      "Epoch 20/20\n",
      "1875/1875 [==============================] - 12s 7ms/step - loss: 0.6179 - accuracy: 0.7525\n",
      "313/313 [==============================] - 1s 2ms/step - loss: 0.5843 - accuracy: 0.7657\n",
      "\n",
      "Test accuracy: 0.7657\n"
     ]
    }
   ],
   "source": [
    "fashion_mnist = keras.datasets.fashion_mnist\n",
    "(train_images, train_labels), (test_images, test_labels) = fashion_mnist.load_data()\n",
    "\n",
    "class_names = ['T-shirt/top', 'Trouser', 'Pullover', 'Dress', 'Coat',\n",
    "'Sandal', 'Shirt', 'Sneaker', 'Bag', 'Ankle boot']\n",
    "\n",
    "model4 = keras.Sequential([\n",
    "keras.layers.Flatten(input_shape=(28, 28)),\n",
    "keras.layers.Dense(256, activation='relu'),\n",
    "keras.layers.Dropout(.25),\n",
    "keras.layers.Dense(256, activation='relu'), \n",
    "keras.layers.Dense(10, activation='softmax')\n",
    "])\n",
    "\n",
    "model4.compile(optimizer='adam',\n",
    "loss=tf.keras.losses.SparseCategoricalCrossentropy(),\n",
    "metrics=['accuracy'])\n",
    "\n",
    "model4.fit(train_images, train_labels, epochs=20)\n",
    "\n",
    "test_loss, test_acc = model4.evaluate(test_images, test_labels)\n",
    "\n",
    "print(f'\\nTest accuracy: {test_acc:.4}')"
   ]
  },
  {
   "cell_type": "markdown",
   "metadata": {
    "id": "EErvuIGQV3D2"
   },
   "source": [
    "What is the test accuracy of `model4`? Did the model performance improve as compared to that in `model3`?"
   ]
  },
  {
   "cell_type": "markdown",
   "metadata": {
    "id": "TtFY6MNRV3D_"
   },
   "source": [
    ".7657. No, it didn't improve."
   ]
  },
  {
   "cell_type": "markdown",
   "metadata": {
    "id": "D-_upsgLV3D_"
   },
   "source": [
    "What is the difference between the train accuracy and the test accuracy in `model4`? Did it grow larger as compared to that in `model3`? No need to explain."
   ]
  },
  {
   "cell_type": "markdown",
   "metadata": {
    "id": "5iCg56NNV3D_"
   },
   "source": [
    "For model4, the difference is .0132. For model3, the difference is .0171. It got smaller."
   ]
  },
  {
   "cell_type": "code",
   "execution_count": 17,
   "metadata": {
    "colab": {
     "base_uri": "https://localhost:8080/"
    },
    "id": "X0-jQ76OATaL",
    "outputId": "0d42b558-c836-4428-a895-acd99cdc170f"
   },
   "outputs": [
    {
     "name": "stdout",
     "output_type": "stream",
     "text": [
      "Downloading data from https://storage.googleapis.com/tensorflow/tf-keras-datasets/mnist.npz\n",
      "11490434/11490434 [==============================] - 0s 0us/step\n",
      "Epoch 1/10\n",
      "1875/1875 [==============================] - 8s 4ms/step - loss: 2.6304 - accuracy: 0.8611\n",
      "Epoch 2/10\n",
      "1875/1875 [==============================] - 7s 4ms/step - loss: 0.3877 - accuracy: 0.9079\n",
      "Epoch 3/10\n",
      "1875/1875 [==============================] - 8s 4ms/step - loss: 0.2913 - accuracy: 0.9251\n",
      "Epoch 4/10\n",
      "1875/1875 [==============================] - 7s 4ms/step - loss: 0.2517 - accuracy: 0.9351\n",
      "Epoch 5/10\n",
      "1875/1875 [==============================] - 8s 4ms/step - loss: 0.2272 - accuracy: 0.9414\n",
      "Epoch 6/10\n",
      "1875/1875 [==============================] - 7s 4ms/step - loss: 0.2200 - accuracy: 0.9445\n",
      "Epoch 7/10\n",
      "1875/1875 [==============================] - 8s 4ms/step - loss: 0.1978 - accuracy: 0.9500\n",
      "Epoch 8/10\n",
      "1875/1875 [==============================] - 7s 4ms/step - loss: 0.1913 - accuracy: 0.9527\n",
      "Epoch 9/10\n",
      "1875/1875 [==============================] - 7s 4ms/step - loss: 0.1943 - accuracy: 0.9525\n",
      "Epoch 10/10\n",
      "1875/1875 [==============================] - 8s 4ms/step - loss: 0.1793 - accuracy: 0.9550\n",
      "313/313 [==============================] - 1s 2ms/step - loss: 0.2642 - accuracy: 0.9496\n",
      "\n",
      "Test accuracy: 0.9496\n",
      "1/1 [==============================] - 0s 58ms/step\n",
      "Image 1:\n",
      "  Predicted: 8\n",
      "  Ground truth: 7\n",
      "Image 2:\n",
      "  Predicted: 8\n",
      "  Ground truth: 2\n",
      "Image 3:\n",
      "  Predicted: 8\n",
      "  Ground truth: 1\n",
      "Image 4:\n",
      "  Predicted: 8\n",
      "  Ground truth: 0\n",
      "Image 5:\n",
      "  Predicted: 8\n",
      "  Ground truth: 4\n",
      "Image 6:\n",
      "  Predicted: 8\n",
      "  Ground truth: 1\n",
      "Image 7:\n",
      "  Predicted: 8\n",
      "  Ground truth: 4\n",
      "Image 8:\n",
      "  Predicted: 8\n",
      "  Ground truth: 9\n",
      "Image 9:\n",
      "  Predicted: 8\n",
      "  Ground truth: 5\n",
      "Image 10:\n",
      "  Predicted: 8\n",
      "  Ground truth: 9\n",
      "Image 11:\n",
      "  Predicted: 8\n",
      "  Ground truth: 0\n",
      "Image 12:\n",
      "  Predicted: 8\n",
      "  Ground truth: 6\n",
      "Image 13:\n",
      "  Predicted: 8\n",
      "  Ground truth: 9\n",
      "Image 14:\n",
      "  Predicted: 8\n",
      "  Ground truth: 0\n",
      "Image 15:\n",
      "  Predicted: 8\n",
      "  Ground truth: 1\n",
      "Epoch 1/20\n",
      "1875/1875 [==============================] - 7s 4ms/step - loss: 0.1790 - accuracy: 0.9564\n",
      "Epoch 2/20\n",
      "1875/1875 [==============================] - 8s 4ms/step - loss: 0.1748 - accuracy: 0.9578\n",
      "Epoch 3/20\n",
      "1875/1875 [==============================] - 6s 3ms/step - loss: 0.1749 - accuracy: 0.9582\n",
      "Epoch 4/20\n",
      "1875/1875 [==============================] - 7s 4ms/step - loss: 0.1711 - accuracy: 0.9599\n",
      "Epoch 5/20\n",
      "1875/1875 [==============================] - 7s 4ms/step - loss: 0.1594 - accuracy: 0.9612\n",
      "Epoch 6/20\n",
      "1875/1875 [==============================] - 7s 4ms/step - loss: 0.1608 - accuracy: 0.9624\n",
      "Epoch 7/20\n",
      "1875/1875 [==============================] - 8s 4ms/step - loss: 0.1555 - accuracy: 0.9632\n",
      "Epoch 8/20\n",
      "1875/1875 [==============================] - 7s 4ms/step - loss: 0.1586 - accuracy: 0.9625\n",
      "Epoch 9/20\n",
      "1875/1875 [==============================] - 8s 4ms/step - loss: 0.1609 - accuracy: 0.9628\n",
      "Epoch 10/20\n",
      "1875/1875 [==============================] - 7s 4ms/step - loss: 0.1565 - accuracy: 0.9635\n",
      "Epoch 11/20\n",
      "1875/1875 [==============================] - 8s 4ms/step - loss: 0.1518 - accuracy: 0.9641\n",
      "Epoch 12/20\n",
      "1875/1875 [==============================] - 7s 4ms/step - loss: 0.1464 - accuracy: 0.9664\n",
      "Epoch 13/20\n",
      "1875/1875 [==============================] - 7s 4ms/step - loss: 0.1470 - accuracy: 0.9662\n",
      "Epoch 14/20\n",
      "1875/1875 [==============================] - 8s 4ms/step - loss: 0.1514 - accuracy: 0.9663\n",
      "Epoch 15/20\n",
      "1875/1875 [==============================] - 7s 4ms/step - loss: 0.1427 - accuracy: 0.9670\n",
      "Epoch 16/20\n",
      "1875/1875 [==============================] - 8s 4ms/step - loss: 0.1475 - accuracy: 0.9669\n",
      "Epoch 17/20\n",
      "1875/1875 [==============================] - 7s 3ms/step - loss: 0.1377 - accuracy: 0.9684\n",
      "Epoch 18/20\n",
      "1875/1875 [==============================] - 8s 4ms/step - loss: 0.1459 - accuracy: 0.9677\n",
      "Epoch 19/20\n",
      "1875/1875 [==============================] - 7s 4ms/step - loss: 0.1469 - accuracy: 0.9677\n",
      "Epoch 20/20\n",
      "1875/1875 [==============================] - 7s 4ms/step - loss: 0.1373 - accuracy: 0.9689\n",
      "313/313 [==============================] - 1s 2ms/step - loss: 2.5118 - accuracy: 0.0974\n",
      "\n",
      "Test accuracy: 0.0974\n",
      "Epoch 1/20\n",
      "1875/1875 [==============================] - 9s 5ms/step - loss: 2.6847 - accuracy: 0.8899\n",
      "Epoch 2/20\n",
      "1875/1875 [==============================] - 8s 4ms/step - loss: 0.3367 - accuracy: 0.9280\n",
      "Epoch 3/20\n",
      "1875/1875 [==============================] - 9s 5ms/step - loss: 0.2784 - accuracy: 0.9373\n",
      "Epoch 4/20\n",
      "1875/1875 [==============================] - 9s 5ms/step - loss: 0.2553 - accuracy: 0.9428\n",
      "Epoch 5/20\n",
      "1875/1875 [==============================] - 8s 4ms/step - loss: 0.2326 - accuracy: 0.9476\n",
      "Epoch 6/20\n",
      "1875/1875 [==============================] - 9s 5ms/step - loss: 0.2192 - accuracy: 0.9508\n",
      "Epoch 7/20\n",
      "1875/1875 [==============================] - 9s 5ms/step - loss: 0.1982 - accuracy: 0.9553\n",
      "Epoch 8/20\n",
      "1875/1875 [==============================] - 8s 4ms/step - loss: 0.2028 - accuracy: 0.9566\n",
      "Epoch 9/20\n",
      "1875/1875 [==============================] - 9s 5ms/step - loss: 0.1867 - accuracy: 0.9587\n",
      "Epoch 10/20\n",
      "1875/1875 [==============================] - 9s 5ms/step - loss: 0.1795 - accuracy: 0.9602\n",
      "Epoch 11/20\n",
      "1875/1875 [==============================] - 8s 4ms/step - loss: 0.1781 - accuracy: 0.9612\n",
      "Epoch 12/20\n",
      "1875/1875 [==============================] - 9s 5ms/step - loss: 0.1749 - accuracy: 0.9630\n",
      "Epoch 13/20\n",
      "1875/1875 [==============================] - 9s 5ms/step - loss: 0.1646 - accuracy: 0.9643\n",
      "Epoch 14/20\n",
      "1875/1875 [==============================] - 8s 4ms/step - loss: 0.1602 - accuracy: 0.9633\n",
      "Epoch 15/20\n",
      "1875/1875 [==============================] - 8s 4ms/step - loss: 0.1659 - accuracy: 0.9651\n",
      "Epoch 16/20\n",
      "1875/1875 [==============================] - 9s 5ms/step - loss: 0.1594 - accuracy: 0.9653\n",
      "Epoch 17/20\n",
      "1875/1875 [==============================] - 8s 4ms/step - loss: 0.1573 - accuracy: 0.9676\n",
      "Epoch 18/20\n",
      "1875/1875 [==============================] - 9s 5ms/step - loss: 0.1418 - accuracy: 0.9690\n",
      "Epoch 19/20\n",
      "1875/1875 [==============================] - 9s 5ms/step - loss: 0.1591 - accuracy: 0.9676\n",
      "Epoch 20/20\n",
      "1875/1875 [==============================] - 8s 4ms/step - loss: 0.1549 - accuracy: 0.9688\n",
      "313/313 [==============================] - 1s 2ms/step - loss: 2.5518 - accuracy: 0.1050\n",
      "\n",
      "Test accuracy: 0.105\n",
      "Epoch 1/20\n",
      "1875/1875 [==============================] - 11s 5ms/step - loss: 1.5010 - accuracy: 0.8982\n",
      "Epoch 2/20\n",
      "1875/1875 [==============================] - 11s 6ms/step - loss: 0.2202 - accuracy: 0.9445\n",
      "Epoch 3/20\n",
      "1875/1875 [==============================] - 11s 6ms/step - loss: 0.1717 - accuracy: 0.9535\n",
      "Epoch 4/20\n",
      "1875/1875 [==============================] - 11s 6ms/step - loss: 0.1604 - accuracy: 0.9559\n",
      "Epoch 5/20\n",
      "1875/1875 [==============================] - 11s 6ms/step - loss: 0.1381 - accuracy: 0.9620\n",
      "Epoch 6/20\n",
      "1875/1875 [==============================] - 10s 5ms/step - loss: 0.1353 - accuracy: 0.9651\n",
      "Epoch 7/20\n",
      "1875/1875 [==============================] - 11s 6ms/step - loss: 0.1103 - accuracy: 0.9704\n",
      "Epoch 8/20\n",
      "1875/1875 [==============================] - 11s 6ms/step - loss: 0.1017 - accuracy: 0.9730\n",
      "Epoch 9/20\n",
      "1875/1875 [==============================] - 11s 6ms/step - loss: 0.0960 - accuracy: 0.9750\n",
      "Epoch 10/20\n",
      "1875/1875 [==============================] - 11s 6ms/step - loss: 0.0885 - accuracy: 0.9768\n",
      "Epoch 11/20\n",
      "1875/1875 [==============================] - 11s 6ms/step - loss: 0.0844 - accuracy: 0.9791\n",
      "Epoch 12/20\n",
      "1875/1875 [==============================] - 10s 5ms/step - loss: 0.0745 - accuracy: 0.9807\n",
      "Epoch 13/20\n",
      "1875/1875 [==============================] - 11s 6ms/step - loss: 0.0814 - accuracy: 0.9804\n",
      "Epoch 14/20\n",
      "1875/1875 [==============================] - 11s 6ms/step - loss: 0.0705 - accuracy: 0.9829\n",
      "Epoch 15/20\n",
      "1875/1875 [==============================] - 11s 6ms/step - loss: 0.0724 - accuracy: 0.9830\n",
      "Epoch 16/20\n",
      "1875/1875 [==============================] - 11s 6ms/step - loss: 0.0641 - accuracy: 0.9842\n",
      "Epoch 17/20\n",
      "1875/1875 [==============================] - 9s 5ms/step - loss: 0.0686 - accuracy: 0.9844\n",
      "Epoch 18/20\n",
      "1875/1875 [==============================] - 11s 6ms/step - loss: 0.0658 - accuracy: 0.9848\n",
      "Epoch 19/20\n",
      "1875/1875 [==============================] - 10s 5ms/step - loss: 0.0559 - accuracy: 0.9865\n",
      "Epoch 20/20\n",
      "1875/1875 [==============================] - 10s 6ms/step - loss: 0.0647 - accuracy: 0.9858\n",
      "313/313 [==============================] - 1s 2ms/step - loss: 2.2296 - accuracy: 0.0980\n",
      "\n",
      "Test accuracy: 0.098\n",
      "Epoch 1/20\n",
      "1875/1875 [==============================] - 11s 6ms/step - loss: 1.8889 - accuracy: 0.8099\n",
      "Epoch 2/20\n",
      "1875/1875 [==============================] - 11s 6ms/step - loss: 0.6037 - accuracy: 0.8611\n",
      "Epoch 3/20\n",
      "1875/1875 [==============================] - 11s 6ms/step - loss: 0.4917 - accuracy: 0.8853\n",
      "Epoch 4/20\n",
      "1875/1875 [==============================] - 12s 6ms/step - loss: 0.3647 - accuracy: 0.9095\n",
      "Epoch 5/20\n",
      "1875/1875 [==============================] - 12s 6ms/step - loss: 0.2875 - accuracy: 0.9241\n",
      "Epoch 6/20\n",
      "1875/1875 [==============================] - 12s 7ms/step - loss: 0.2561 - accuracy: 0.9328\n",
      "Epoch 7/20\n",
      "1875/1875 [==============================] - 12s 6ms/step - loss: 0.2416 - accuracy: 0.9369\n",
      "Epoch 8/20\n",
      "1875/1875 [==============================] - 12s 7ms/step - loss: 0.2175 - accuracy: 0.9432\n",
      "Epoch 9/20\n",
      "1875/1875 [==============================] - 12s 6ms/step - loss: 0.2038 - accuracy: 0.9476\n",
      "Epoch 10/20\n",
      "1875/1875 [==============================] - 13s 7ms/step - loss: 0.1958 - accuracy: 0.9491\n",
      "Epoch 11/20\n",
      "1875/1875 [==============================] - 12s 6ms/step - loss: 0.1858 - accuracy: 0.9533\n",
      "Epoch 12/20\n",
      "1875/1875 [==============================] - 12s 6ms/step - loss: 0.1790 - accuracy: 0.9546\n",
      "Epoch 13/20\n",
      "1875/1875 [==============================] - 12s 7ms/step - loss: 0.1722 - accuracy: 0.9564\n",
      "Epoch 14/20\n",
      "1875/1875 [==============================] - 12s 6ms/step - loss: 0.1658 - accuracy: 0.9586\n",
      "Epoch 15/20\n",
      "1875/1875 [==============================] - 12s 7ms/step - loss: 0.1702 - accuracy: 0.9581\n",
      "Epoch 16/20\n",
      "1875/1875 [==============================] - 12s 6ms/step - loss: 0.1544 - accuracy: 0.9622\n",
      "Epoch 17/20\n",
      "1875/1875 [==============================] - 11s 6ms/step - loss: 0.1559 - accuracy: 0.9609\n",
      "Epoch 18/20\n",
      "1875/1875 [==============================] - 9s 5ms/step - loss: 0.1537 - accuracy: 0.9616\n",
      "Epoch 19/20\n",
      "1875/1875 [==============================] - 11s 6ms/step - loss: 0.1439 - accuracy: 0.9632\n",
      "Epoch 20/20\n",
      "1875/1875 [==============================] - 12s 7ms/step - loss: 0.1439 - accuracy: 0.9640\n",
      "313/313 [==============================] - 1s 3ms/step - loss: 2.4859 - accuracy: 0.0974\n",
      "\n",
      "Test accuracy: 0.0974\n"
     ]
    }
   ],
   "source": [
    "mnist = keras.datasets.mnist\n",
    "(train_images, train_labels), (test_images, test_labels) = mnist.load_data()\n",
    "\n",
    "class_names = ['0', '1', '2', '3', '4', '5', '6', '7', '8', '9']\n",
    "\n",
    "model = keras.Sequential([\n",
    "    keras.layers.Flatten(input_shape=(28, 28)),\n",
    "    keras.layers.Dense(128, activation='relu'),\n",
    "    keras.layers.Dense(10, activation='softmax')\n",
    "])\n",
    "\n",
    "model.compile(optimizer='adam',\n",
    "              loss=tf.keras.losses.SparseCategoricalCrossentropy(),\n",
    "              metrics=['accuracy'])\n",
    "\n",
    "model.fit(train_images, train_labels, epochs=10)\n",
    "\n",
    "test_loss, test_acc = model.evaluate(test_images, test_labels)\n",
    "\n",
    "print(f'\\nTest accuracy: {test_acc:.4}')\n",
    "\n",
    "test_images = test_images / 255.0\n",
    "first_15_test_images = test_images[:15]\n",
    "predictions = model.predict(first_15_test_images)\n",
    "predicted_labels = np.argmax(predictions, axis=1)\n",
    "for i in range(15):\n",
    "    print(f\"Image {i+1}:\")\n",
    "    print(f\"  Predicted: {class_names[predicted_labels[i]]}\")\n",
    "    print(f\"  Ground truth: {class_names[test_labels[i]]}\")\n",
    "\n",
    "model.fit(train_images, train_labels, epochs=20)\n",
    "\n",
    "test_loss, test_acc = model.evaluate(test_images, test_labels)\n",
    "\n",
    "print(f'\\nTest accuracy: {test_acc:.4}')\n",
    "\n",
    "model2 = keras.Sequential([\n",
    "    keras.layers.Flatten(input_shape=(28, 28)),\n",
    "    keras.layers.Dense(256, activation='relu'),\n",
    "    keras.layers.Dense(10, activation='softmax')\n",
    "])\n",
    "\n",
    "model2.compile(optimizer='adam',\n",
    "              loss=tf.keras.losses.SparseCategoricalCrossentropy(),\n",
    "              metrics=['accuracy'])\n",
    "\n",
    "model2.fit(train_images, train_labels, epochs=20)\n",
    "\n",
    "test_loss, test_acc = model2.evaluate(test_images, test_labels)\n",
    "\n",
    "print(f'\\nTest accuracy: {test_acc:.4}')\n",
    "\n",
    "model3 = keras.Sequential([\n",
    "    keras.layers.Flatten(input_shape=(28, 28)),\n",
    "    keras.layers.Dense(256, activation='relu'),\n",
    "    keras.layers.Dense(256, activation='relu'),\n",
    "    keras.layers.Dense(10, activation='softmax')\n",
    "])\n",
    "\n",
    "model3.compile(optimizer='adam',\n",
    "              loss=tf.keras.losses.SparseCategoricalCrossentropy(),\n",
    "              metrics=['accuracy'])\n",
    "\n",
    "model3.fit(train_images, train_labels, epochs=20)\n",
    "\n",
    "test_loss, test_acc = model3.evaluate(test_images, test_labels)\n",
    "\n",
    "print(f'\\nTest accuracy: {test_acc:.4}')\n",
    "\n",
    "model4 = keras.Sequential([\n",
    "    keras.layers.Flatten(input_shape=(28, 28)),\n",
    "    keras.layers.Dense(256, activation='relu'),\n",
    "    keras.layers.Dropout(.25),\n",
    "    keras.layers.Dense(256, activation='relu'),\n",
    "    keras.layers.Dense(10, activation='softmax')\n",
    "])\n",
    "\n",
    "model4.compile(optimizer='adam',\n",
    "               loss=tf.keras.losses.SparseCategoricalCrossentropy(),\n",
    "               metrics=['accuracy'])\n",
    "\n",
    "model4.fit(train_images, train_labels, epochs=20)\n",
    "\n",
    "test_loss, test_acc = model4.evaluate(test_images, test_labels)\n",
    "\n",
    "print(f'\\nTest accuracy: {test_acc:.4}')"
   ]
  },
  {
   "cell_type": "markdown",
   "metadata": {
    "id": "UpJPZ1tPATaL"
   },
   "source": [
    "What is the test accuracy?"
   ]
  },
  {
   "cell_type": "markdown",
   "metadata": {
    "id": "X6pPCGs0ATaL"
   },
   "source": [
    ".0974"
   ]
  },
  {
   "cell_type": "code",
   "execution_count": 20,
   "metadata": {
    "colab": {
     "base_uri": "https://localhost:8080/"
    },
    "id": "hy593c7XATaM",
    "outputId": "79ac0038-cc7d-4076-84ec-4d14625c8658"
   },
   "outputs": [
    {
     "name": "stdout",
     "output_type": "stream",
     "text": [
      "Epoch 1/50\n",
      "1500/1500 [==============================] - 11s 7ms/step - loss: 0.2433 - accuracy: 0.9274 - val_loss: 0.1258 - val_accuracy: 0.9609\n",
      "Epoch 2/50\n",
      "1500/1500 [==============================] - 9s 6ms/step - loss: 0.0991 - accuracy: 0.9697 - val_loss: 0.1166 - val_accuracy: 0.9649\n",
      "Epoch 3/50\n",
      "1500/1500 [==============================] - 9s 6ms/step - loss: 0.0691 - accuracy: 0.9785 - val_loss: 0.0835 - val_accuracy: 0.9757\n",
      "Epoch 4/50\n",
      "1500/1500 [==============================] - 10s 7ms/step - loss: 0.0505 - accuracy: 0.9835 - val_loss: 0.0898 - val_accuracy: 0.9757\n",
      "Epoch 5/50\n",
      "1500/1500 [==============================] - 10s 7ms/step - loss: 0.0430 - accuracy: 0.9856 - val_loss: 0.1011 - val_accuracy: 0.9743\n",
      "Epoch 6/50\n",
      "1500/1500 [==============================] - 10s 7ms/step - loss: 0.0351 - accuracy: 0.9886 - val_loss: 0.0926 - val_accuracy: 0.9763\n",
      "313/313 [==============================] - 1s 2ms/step - loss: 0.0784 - accuracy: 0.9772\n",
      "\n",
      "Test accuracy: 0.9772\n"
     ]
    }
   ],
   "source": [
    "fashion_mnist = keras.datasets.mnist\n",
    "(train_images, train_labels), (test_images, test_labels) = fashion_mnist.load_data()\n",
    "\n",
    "train_images = train_images / 255.0\n",
    "test_images = test_images / 255.0\n",
    "\n",
    "class_names = ['0', '1', '2', '3', '4', '5', '6', '7', '8', '9']\n",
    "\n",
    "model = keras.Sequential([\n",
    "    keras.layers.Flatten(input_shape=(28, 28)),\n",
    "    keras.layers.Dense(256, activation='relu'),\n",
    "    keras.layers.Dense(128, activation='relu'),\n",
    "    keras.layers.Dense(64, activation='relu'),\n",
    "    keras.layers.Dense(10, activation='softmax')\n",
    "])\n",
    "\n",
    "opt = keras.optimizers.Adam(learning_rate=0.001)\n",
    "model.compile(optimizer=opt,\n",
    "              loss=tf.keras.losses.SparseCategoricalCrossentropy(),\n",
    "              metrics=['accuracy'])\n",
    "\n",
    "estop = keras.callbacks.EarlyStopping(monitor='val_loss', patience=3, restore_best_weights=True)\n",
    "\n",
    "hist = model.fit(train_images, train_labels, epochs=50, validation_split=0.2, callbacks=[estop])\n",
    "\n",
    "test_loss, test_acc = model.evaluate(test_images, test_labels)\n",
    "\n",
    "print(f'\\nTest accuracy: {test_acc:.4}')"
   ]
  }
 ],
 "metadata": {
  "colab": {
   "provenance": []
  },
  "kernelspec": {
   "display_name": "Python 3 (ipykernel)",
   "language": "python",
   "name": "python3"
  },
  "language_info": {
   "codemirror_mode": {
    "name": "ipython",
    "version": 3
   },
   "file_extension": ".py",
   "mimetype": "text/x-python",
   "name": "python",
   "nbconvert_exporter": "python",
   "pygments_lexer": "ipython3",
   "version": "3.9.13"
  }
 },
 "nbformat": 4,
 "nbformat_minor": 1
}
